{
 "cells": [
  {
   "cell_type": "code",
   "execution_count": 40,
   "id": "0bd56e56-7612-4105-821f-7d6c56fbc90f",
   "metadata": {},
   "outputs": [
    {
     "name": "stdin",
     "output_type": "stream",
     "text": [
      " vcbgnj,k\n"
     ]
    }
   ],
   "source": [
    "import cv2\n",
    "import numpy as np\n",
    "\n",
    "def running_string(string):\n",
    "    dur=3\n",
    "    fps=30\n",
    "\n",
    "    weight, hight=100, 100\n",
    "    \n",
    "    fourcc = cv2.VideoWriter_fourcc(*'mp4v')\n",
    "    video_output = cv2.VideoWriter('output.mp4', fourcc, fps, (weight, hight))\n",
    "    font = cv2.FONT_HERSHEY_SIMPLEX\n",
    "    font_scale = 2\n",
    "    font_thickness = 2\n",
    "    font_color = (255, 255, 255)\n",
    "    x, y =100, 70\n",
    "    shift=max((len(string)*30+150)//90, 2)\n",
    "    for _ in range(dur*fps):\n",
    "        frame =np.zeros((weight, hight, 3), dtype=np.uint8)\n",
    "        frame[:] = (255, 0, 255)\n",
    "        x-=shift\n",
    "        cv2.putText(frame, string, (x, y), font, font_scale, font_color, font_thickness)\n",
    "        video_output.write(frame)\n",
    "    video_output.release()\n",
    "\n",
    "\n",
    "running_string(input())\n",
    "\n"
   ]
  },
  {
   "cell_type": "code",
   "execution_count": null,
   "id": "953b9bcc-39e0-47b9-8108-03e398660396",
   "metadata": {},
   "outputs": [],
   "source": []
  }
 ],
 "metadata": {
  "kernelspec": {
   "display_name": "Python 3 (ipykernel)",
   "language": "python",
   "name": "python3"
  },
  "language_info": {
   "codemirror_mode": {
    "name": "ipython",
    "version": 3
   },
   "file_extension": ".py",
   "mimetype": "text/x-python",
   "name": "python",
   "nbconvert_exporter": "python",
   "pygments_lexer": "ipython3",
   "version": "3.12.3"
  }
 },
 "nbformat": 4,
 "nbformat_minor": 5
}
